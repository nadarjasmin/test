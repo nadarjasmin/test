{
  "nbformat": 4,
  "nbformat_minor": 0,
  "metadata": {
    "colab": {
      "name": "building-inbuild-python-functions.ipynb",
      "provenance": [],
      "collapsed_sections": [],
      "authorship_tag": "ABX9TyMKi2ge0SbE9QGtunJP5aoX",
      "include_colab_link": true
    },
    "kernelspec": {
      "name": "python3",
      "display_name": "Python 3"
    }
  },
  "cells": [
    {
      "cell_type": "markdown",
      "metadata": {
        "id": "view-in-github",
        "colab_type": "text"
      },
      "source": [
        "<a href=\"https://colab.research.google.com/github/nadarjasmin/test/blob/master/building_inbuild_python_functions.ipynb\" target=\"_parent\"><img src=\"https://colab.research.google.com/assets/colab-badge.svg\" alt=\"Open In Colab\"/></a>"
      ]
    },
    {
      "cell_type": "code",
      "metadata": {
        "id": "h433wdcSMVYp",
        "colab_type": "code",
        "colab": {
          "base_uri": "https://localhost:8080/",
          "height": 34
        },
        "outputId": "bbf513a8-2c38-4859-e7b3-b77b1daec3a6"
      },
      "source": [
        "def sumTwo(a,b):\n",
        "    return a+b\n",
        "\n",
        "def verifynCallSum(y):\n",
        "    sum1=0\n",
        "    \n",
        "    if (len(y)>1):\n",
        "      if isinstance(y,(set,dict)):\n",
        "        y = list(y)\n",
        "      \n",
        "      for i in range(0,len(y)):\n",
        "        sum1 = sumTwo(sum1,y[i])\n",
        "      return sum1\n",
        "    else:\n",
        "      return y\n",
        "\n",
        "def letsCompute(x,y):\n",
        "  if len(y) == 0:\n",
        "        print(\"letsCompute() of empty sequence with no initial value\")\n",
        "  else:\n",
        "    reduceResult = verifynCallSum(y)        \n",
        "    return reduceResult\n",
        "\n",
        "final=letsCompute(sumTwo,[1,2,5])\n",
        "if(final is not None):\n",
        "  print (final)"
      ],
      "execution_count": 25,
      "outputs": [
        {
          "output_type": "stream",
          "text": [
            "8\n"
          ],
          "name": "stdout"
        }
      ]
    },
    {
      "cell_type": "code",
      "metadata": {
        "id": "mjAEZXuzKi2S",
        "colab_type": "code",
        "colab": {
          "base_uri": "https://localhost:8080/",
          "height": 34
        },
        "outputId": "b4022d21-6d40-4920-d69a-67bbcaa9d528"
      },
      "source": [
        "new_range = [chr(120+x)*i for x in range(0,3) for i in range(1,5)]\n",
        "print(new_range)"
      ],
      "execution_count": 2,
      "outputs": [
        {
          "output_type": "stream",
          "text": [
            "['x', 'xx', 'xxx', 'xxxx', 'y', 'yy', 'yyy', 'yyyy', 'z', 'zz', 'zzz', 'zzzz']\n"
          ],
          "name": "stdout"
        }
      ]
    },
    {
      "cell_type": "code",
      "metadata": {
        "id": "bbXVUdMjKjDe",
        "colab_type": "code",
        "colab": {
          "base_uri": "https://localhost:8080/",
          "height": 34
        },
        "outputId": "78f7fb04-934a-4160-d770-7c910e8c4cea"
      },
      "source": [
        "new_range1 = [chr(119+i)*x for x in range(1,5) for i in range(1,4)]\n",
        "print(new_range1)"
      ],
      "execution_count": 3,
      "outputs": [
        {
          "output_type": "stream",
          "text": [
            "['x', 'y', 'z', 'xx', 'yy', 'zz', 'xxx', 'yyy', 'zzz', 'xxxx', 'yyyy', 'zzzz']\n"
          ],
          "name": "stdout"
        }
      ]
    },
    {
      "cell_type": "code",
      "metadata": {
        "id": "SbrMNwVJKjQQ",
        "colab_type": "code",
        "colab": {
          "base_uri": "https://localhost:8080/",
          "height": 34
        },
        "outputId": "51f84234-1a9a-4e94-b9a9-8b881978cb34"
      },
      "source": [
        "new_range3 = [[(2+i)+j for j in range(4)] for i in range(4)]\n",
        "print(new_range3)"
      ],
      "execution_count": 4,
      "outputs": [
        {
          "output_type": "stream",
          "text": [
            "[[2, 3, 4, 5], [3, 4, 5, 6], [4, 5, 6, 7], [5, 6, 7, 8]]\n"
          ],
          "name": "stdout"
        }
      ]
    },
    {
      "cell_type": "code",
      "metadata": {
        "id": "bXmZw2qsKja6",
        "colab_type": "code",
        "colab": {
          "base_uri": "https://localhost:8080/",
          "height": 34
        },
        "outputId": "47de6a05-96e8-4f06-fd93-55f75b1bd228"
      },
      "source": [
        "new_range4 = [(i,j) for j in range(1,4) for i in range(1,4)]\n",
        "print(new_range4)"
      ],
      "execution_count": 5,
      "outputs": [
        {
          "output_type": "stream",
          "text": [
            "[(1, 1), (2, 1), (3, 1), (1, 2), (2, 2), (3, 2), (1, 3), (2, 3), (3, 3)]\n"
          ],
          "name": "stdout"
        }
      ]
    },
    {
      "cell_type": "code",
      "metadata": {
        "id": "NuAJJ_YtKjiz",
        "colab_type": "code",
        "colab": {
          "base_uri": "https://localhost:8080/",
          "height": 34
        },
        "outputId": "f4d7af5f-f981-49ef-8821-f321ee265310"
      },
      "source": [
        "new_range5 = [[j+i for k in range(1)] for j in range(2,5) for i in range(3)]\n",
        "print(new_range5)"
      ],
      "execution_count": 6,
      "outputs": [
        {
          "output_type": "stream",
          "text": [
            "[[2], [3], [4], [3], [4], [5], [4], [5], [6]]\n"
          ],
          "name": "stdout"
        }
      ]
    },
    {
      "cell_type": "code",
      "metadata": {
        "id": "_pzapz3wKjvP",
        "colab_type": "code",
        "colab": {
          "base_uri": "https://localhost:8080/",
          "height": 51
        },
        "outputId": "15cdcdce-7474-46b7-de54-6e9f9ff1e5b8"
      },
      "source": [
        "a = {1:6,3:8,1:2}\n",
        "print(a)\n",
        "f =list(a)\n",
        "print(f)"
      ],
      "execution_count": 30,
      "outputs": [
        {
          "output_type": "stream",
          "text": [
            "{1: 2, 3: 8}\n",
            "[1, 3]\n"
          ],
          "name": "stdout"
        }
      ]
    },
    {
      "cell_type": "code",
      "metadata": {
        "id": "JfNBFJEAM1Ng",
        "colab_type": "code",
        "colab": {}
      },
      "source": [
        ""
      ],
      "execution_count": 4,
      "outputs": []
    }
  ]
}